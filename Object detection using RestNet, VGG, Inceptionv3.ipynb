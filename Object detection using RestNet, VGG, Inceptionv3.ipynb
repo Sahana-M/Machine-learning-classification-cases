{
 "cells": [
  {
   "cell_type": "code",
   "execution_count": 1,
   "metadata": {},
   "outputs": [
    {
     "name": "stdout",
     "output_type": "stream",
     "text": [
      "Downloading data from https://storage.googleapis.com/tensorflow/keras-applications/resnet/resnet50_weights_tf_dim_ordering_tf_kernels.h5\n",
      "102973440/102967424 [==============================] - 12s 0us/step\n"
     ]
    }
   ],
   "source": [
    "## loading ResNet50 \n",
    "\n",
    "from keras.applications.resnet50 import ResNet50\n",
    "from keras.preprocessing import image\n",
    "from keras.applications.resnet50 import preprocess_input, decode_predictions\n",
    "import numpy as np\n",
    "\n",
    "\n",
    "resnet_model = ResNet50(weights = 'imagenet')\n",
    "\n"
   ]
  },
  {
   "cell_type": "code",
   "execution_count": 8,
   "metadata": {},
   "outputs": [
    {
     "name": "stdout",
     "output_type": "stream",
     "text": [
      "Downloading data from https://storage.googleapis.com/download.tensorflow.org/data/imagenet_class_index.json\n",
      "40960/35363 [==================================] - 0s 2us/step\n",
      "predicted values :  [('n02100583', 'vizsla', 0.52825785), ('n02092339', 'Weimaraner', 0.32402006), ('n02099849', 'Chesapeake_Bay_retriever', 0.0754043)]\n"
     ]
    }
   ],
   "source": [
    "from keras.preprocessing import image\n",
    "\n",
    "\n",
    "img_path= 'images/dog.jpg'\n",
    "\n",
    "img = image.load_img(img_path, target_size = (224,224))\n",
    "\n",
    "x = image.img_to_array(img)\n",
    "x = np.expand_dims(x, axis = 0)\n",
    "x = preprocess_input(x)\n",
    "\n",
    "preds = resnet_model.predict(x)\n",
    "\n",
    "print(\"predicted values : \", decode_predictions(preds, top=3)[0])\n"
   ]
  },
  {
   "cell_type": "code",
   "execution_count": 9,
   "metadata": {},
   "outputs": [
    {
     "name": "stdout",
     "output_type": "stream",
     "text": [
      "Downloading data from https://storage.googleapis.com/tensorflow/keras-applications/vgg16/vgg16_weights_tf_dim_ordering_tf_kernels.h5\n",
      "553467904/553467096 [==============================] - 73s 0us/step\n",
      "Downloading data from https://storage.googleapis.com/tensorflow/keras-applications/inception_v3/inception_v3_weights_tf_dim_ordering_tf_kernels.h5\n",
      "96116736/96112376 [==============================] - 11s 0us/step\n"
     ]
    }
   ],
   "source": [
    "## Lets load VGG16 & InceptionV3\n",
    "\n",
    "from keras.applications import vgg16, inception_v3\n",
    "\n",
    "vgg16_model = vgg16.VGG16(weights = 'imagenet')\n",
    "inceptionv3_model = inception_v3.InceptionV3(weights = 'imagenet')\n",
    "\n"
   ]
  },
  {
   "cell_type": "code",
   "execution_count": 16,
   "metadata": {},
   "outputs": [
    {
     "name": "stdout",
     "output_type": "stream",
     "text": [
      "\n",
      "\n",
      "Image  dog.jpg\n",
      "VGG16 Predictions [('n02100236', 'German_short-haired_pointer', 0.8477104), ('n02092339', 'Weimaraner', 0.0670801), ('n02099849', 'Chesapeake_Bay_retriever', 0.046830885)]\n",
      "Inception_V3 Predictions [('n03047690', 'clog', 0.9999956), ('n04131690', 'saltshaker', 4.3789073e-06), ('n02841315', 'binoculars', 2.5876962e-13)]\n",
      "ResNet50 Predictions [('n02100583', 'vizsla', 0.52825785), ('n02092339', 'Weimaraner', 0.32402006), ('n02099849', 'Chesapeake_Bay_retriever', 0.0754043)]\n",
      "\n",
      "\n",
      "Image  bikinimodel.jpg\n",
      "VGG16 Predictions [('n02837789', 'bikini', 0.23542793), ('n04429376', 'throne', 0.10922969), ('n03710637', 'maillot', 0.07300225)]\n",
      "Inception_V3 Predictions [('n04328186', 'stopwatch', 0.9995733), ('n02747177', 'ashcan', 0.0003186425), ('n04192698', 'shield', 0.00010734926)]\n",
      "ResNet50 Predictions [('n02837789', 'bikini', 0.59071994), ('n03710637', 'maillot', 0.22808625), ('n02892767', 'brassiere', 0.1482645)]\n",
      "\n",
      "\n",
      "Image  snail.jpg\n",
      "VGG16 Predictions [('n13054560', 'bolete', 0.43986955), ('n07734744', 'mushroom', 0.20758042), ('n09256479', 'coral_reef', 0.026839022)]\n",
      "Inception_V3 Predictions [('n03000134', 'chainlink_fence', 0.9276646), ('n06359193', 'web_site', 0.07232183), ('n04355933', 'sunglass', 1.3586931e-05)]\n",
      "ResNet50 Predictions [('n01944390', 'snail', 0.20374694), ('n01945685', 'slug', 0.12640503), ('n02655020', 'puffer', 0.069403894)]\n"
     ]
    }
   ],
   "source": [
    "import cv2\n",
    "\n",
    "mypath = \"images/\"\n",
    "file_names = ['dog.jpg', 'bikinimodel.jpg', 'snail.jpg']\n",
    "\n",
    "# Loop through images run them through our classifer\n",
    "for file in file_names:\n",
    "\n",
    "    from keras.preprocessing import image # Need to reload as opencv2 seems to have a conflict\n",
    "    img = image.load_img(mypath+file, target_size=(224, 224))\n",
    "    x = image.img_to_array(img)\n",
    "    x = np.expand_dims(x, axis=0)\n",
    "    x = preprocess_input(x)\n",
    "    \n",
    "    #load image using opencv\n",
    "    img2 = cv2.imread(mypath+file)\n",
    "    imageL = cv2.resize(img2, None, fx=.5, fy=.5, interpolation = cv2.INTER_CUBIC) \n",
    "    \n",
    "    print(\"\\n\\nImage \", file)\n",
    "    # Get VGG16 Predictions\n",
    "    preds_vgg_model = vgg16_model.predict(x)\n",
    "    preditions_vgg = decode_predictions(preds_vgg_model, top=3)[0]\n",
    "    print(\"VGG16 Predictions\", preditions_vgg) \n",
    "    \n",
    "    # Get Inception_V3 Predictions\n",
    "    preds_inception = inceptionv3_model.predict(x)\n",
    "    preditions_inception = decode_predictions(preds_inception, top=3)[0]\n",
    "    print(\"Inception_V3 Predictions\", preditions_inception) \n",
    "\n",
    "    # Get ResNet50 Predictions\n",
    "    preds_resnet = resnet_model.predict(x)\n",
    "    preditions_resnet = decode_predictions(preds_resnet, top=3)[0]\n",
    "    print(\"ResNet50 Predictions\", preditions_resnet) "
   ]
  },
  {
   "cell_type": "code",
   "execution_count": null,
   "metadata": {},
   "outputs": [],
   "source": []
  }
 ],
 "metadata": {
  "kernelspec": {
   "display_name": "Python 3",
   "language": "python",
   "name": "python3"
  },
  "language_info": {
   "codemirror_mode": {
    "name": "ipython",
    "version": 3
   },
   "file_extension": ".py",
   "mimetype": "text/x-python",
   "name": "python",
   "nbconvert_exporter": "python",
   "pygments_lexer": "ipython3",
   "version": "3.8.3"
  }
 },
 "nbformat": 4,
 "nbformat_minor": 4
}
